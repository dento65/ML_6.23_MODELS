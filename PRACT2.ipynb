{
 "cells": [
  {
   "cell_type": "code",
   "execution_count": 9,
   "id": "e808c1a0",
   "metadata": {},
   "outputs": [],
   "source": [
    "# Imports\n",
    "import torch\n",
    "import torchvision"
   ]
  },
  {
   "cell_type": "code",
   "execution_count": 10,
   "id": "29e62393",
   "metadata": {},
   "outputs": [
    {
     "name": "stdout",
     "output_type": "stream",
     "text": [
      "Files already downloaded and verified\n"
     ]
    }
   ],
   "source": [
    "dataset = torchvision.datasets.CIFAR10(root='data/', download=True)"
   ]
  },
  {
   "cell_type": "code",
   "execution_count": 11,
   "id": "c5712a09",
   "metadata": {},
   "outputs": [
    {
     "data": {
      "text/plain": [
       "50000"
      ]
     },
     "execution_count": 11,
     "metadata": {},
     "output_type": "execute_result"
    }
   ],
   "source": [
    "\n",
    "len(dataset)"
   ]
  },
  {
   "cell_type": "code",
   "execution_count": 12,
   "id": "4fcb8db4",
   "metadata": {},
   "outputs": [],
   "source": [
    "import matplotlib.pyplot as plt\n",
    "%matplotlib inline"
   ]
  },
  {
   "cell_type": "code",
   "execution_count": 78,
   "id": "88d45d26",
   "metadata": {},
   "outputs": [
    {
     "name": "stdout",
     "output_type": "stream",
     "text": [
      "torch.Size([3, 32, 32])\n"
     ]
    }
   ],
   "source": [
    "image,label= dataset[0]\n",
    "print(image.shape)#here 3 is the number of rgb channels so total data for a single image = 32*32*3 unlike mnist 784"
   ]
  },
  {
   "cell_type": "code",
   "execution_count": 87,
   "id": "bb42dd01",
   "metadata": {
    "scrolled": true
   },
   "outputs": [
    {
     "name": "stdout",
     "output_type": "stream",
     "text": [
      "label: 2\n",
      "torch.Size([3, 32, 32])\n"
     ]
    },
    {
     "data": {
      "image/png": "[encoded data removed]",
      "text/plain": [
       "<Figure size 432x288 with 1 Axes>"
      ]
     },
     "metadata": {
      "needs_background": "light"
     },
     "output_type": "display_data"
    }
   ],
   "source": [
    "plt.imshow(image.moveaxis(0, -1)) #here we moved the channels to the right-end according to the displaying convention\n",
    "#otherwise it will show an error\n",
    "print('label:',label)"
   ]
  },
  {
   "cell_type": "code",
   "execution_count": 77,
   "id": "99d139ce",
   "metadata": {},
   "outputs": [],
   "source": [
    "import torchvision.transforms as transforms\n",
    "dataset = torchvision.datasets.CIFAR10(root='data/', \n",
    "                train=True,\n",
    "                transform=transforms.ToTensor())"
   ]
  },
  {
   "cell_type": "code",
   "execution_count": 79,
   "id": "efb7dced",
   "metadata": {},
   "outputs": [
    {
     "name": "stdout",
     "output_type": "stream",
     "text": [
      "label: 2\n"
     ]
    },
    {
     "data": {
      "image/png": "[encoded data removed]",
      "text/plain": [
       "<Figure size 432x288 with 1 Axes>"
      ]
     },
     "metadata": {
      "needs_background": "light"
     },
     "output_type": "display_data"
    }
   ],
   "source": [
    "image,label= dataset[6]\n",
    "plt.imshow(image[0,:,:])#here we are displaying the one out of three rgb channels\n",
    "print('label:',label)"
   ]
  },
  {
   "cell_type": "code",
   "execution_count": 21,
   "id": "720d6030",
   "metadata": {},
   "outputs": [
    {
     "data": {
      "text/plain": [
       "(45000, 5000)"
      ]
     },
     "execution_count": 21,
     "metadata": {},
     "output_type": "execute_result"
    }
   ],
   "source": [
    "from torch.utils.data import random_split\n",
    "\n",
    "train_ds, val_ds = random_split(dataset, [45000, 5000]) #5000 is the test set\n",
    "len(train_ds), len(val_ds)"
   ]
  },
  {
   "cell_type": "code",
   "execution_count": 22,
   "id": "269a6f56",
   "metadata": {},
   "outputs": [
    {
     "name": "stdout",
     "output_type": "stream",
     "text": [
      "torch.Size([3, 32, 32]) 6\n"
     ]
    }
   ],
   "source": [
    "img_tensor, label = dataset[0]\n",
    "print(img_tensor.shape, label)"
   ]
  },
  {
   "cell_type": "code",
   "execution_count": 23,
   "id": "e2027052",
   "metadata": {},
   "outputs": [
    {
     "name": "stdout",
     "output_type": "stream",
     "text": [
      "tensor([[0.3137, 0.3804, 0.3529, 0.3843, 0.5373],\n",
      "        [0.4353, 0.5725, 0.5333, 0.6392, 0.6627],\n",
      "        [0.5412, 0.8353, 0.6980, 0.7490, 0.8275],\n",
      "        [0.6471, 0.8980, 0.7176, 0.7490, 0.9373],\n",
      "        [0.7529, 0.7255, 0.5686, 0.7961, 0.8745]])\n",
      "torch.Size([3, 32, 32]) 6\n",
      "tensor(1.) tensor(0.)\n"
     ]
    }
   ],
   "source": [
    "print(img_tensor[0,10:15,10:15])\n",
    "print(img_tensor.shape, label)\n",
    "print(torch.max(img_tensor), torch.min(img_tensor))"
   ]
  },
  {
   "cell_type": "code",
   "execution_count": 24,
   "id": "46755dcb",
   "metadata": {},
   "outputs": [],
   "source": [
    "from torch.utils.data import DataLoader\n",
    "\n",
    "batch_size = 128\n",
    "\n",
    "train_loader = DataLoader(train_ds, batch_size, shuffle=True)#dataloader divides the data into the batch sizes of\n",
    "#128\n",
    "val_loader = DataLoader(val_ds, batch_size)"
   ]
  },
  {
   "cell_type": "code",
   "execution_count": 74,
   "id": "a2500bdf",
   "metadata": {},
   "outputs": [],
   "source": [
    "import torch.nn as nn\n",
    "\n",
    "input_size = 3*32*32 #the image size is 32*32 \n",
    "num_classes = 10\n",
    "\n",
    "# Logistic regression model\n",
    "model = nn.Linear(input_size, num_classes)"
   ]
  },
  {
   "cell_type": "code",
   "execution_count": 75,
   "id": "12860965",
   "metadata": {},
   "outputs": [
    {
     "name": "stdout",
     "output_type": "stream",
     "text": [
      "torch.Size([10, 3072])\n"
     ]
    }
   ],
   "source": [
    "print(model.weight.shape)# weight here is then used as data * weighttranspose"
   ]
  },
  {
   "cell_type": "code",
   "execution_count": 36,
   "id": "c20cbd33",
   "metadata": {},
   "outputs": [
    {
     "name": "stdout",
     "output_type": "stream",
     "text": [
      "Parameter containing:\n",
      "tensor([[-0.0300, -0.0114, -0.0173,  ...,  0.0123,  0.0146, -0.0208],\n",
      "        [-0.0129,  0.0152,  0.0131,  ..., -0.0016,  0.0212,  0.0282],\n",
      "        [-0.0156,  0.0068, -0.0061,  ...,  0.0035, -0.0294, -0.0080],\n",
      "        ...,\n",
      "        [ 0.0280,  0.0240, -0.0146,  ..., -0.0204,  0.0234,  0.0278],\n",
      "        [-0.0034, -0.0252,  0.0073,  ..., -0.0113,  0.0018, -0.0229],\n",
      "        [-0.0250,  0.0203,  0.0268,  ...,  0.0261, -0.0193,  0.0015]],\n",
      "       requires_grad=True)\n",
      "Parameter containing:\n",
      "tensor([ 0.0055, -0.0147,  0.0254, -0.0184, -0.0005, -0.0150,  0.0136,  0.0006,\n",
      "        -0.0148,  0.0133], requires_grad=True)\n"
     ]
    }
   ],
   "source": [
    "print(model.weight)#these weights are the random weights now they are to be changed by training the model\n",
    "print(model.bias)"
   ]
  },
  {
   "cell_type": "code",
   "execution_count": 83,
   "id": "65d74468",
   "metadata": {},
   "outputs": [
    {
     "name": "stdout",
     "output_type": "stream",
     "text": [
      "tensor([4, 2, 6, 1, 3, 3, 5, 9, 7, 8, 2, 2, 7, 8, 4, 8, 7, 1, 4, 0, 0, 6, 2, 2,\n",
      "        4, 5, 8, 3, 0, 3, 4, 4, 4, 0, 2, 9, 5, 7, 4, 5, 4, 0, 5, 8, 5, 6, 8, 0,\n",
      "        6, 3, 2, 4, 6, 4, 0, 6, 3, 7, 8, 1, 1, 8, 0, 0, 1, 5, 6, 0, 8, 7, 8, 8,\n",
      "        0, 7, 6, 9, 3, 2, 1, 2, 2, 3, 0, 2, 7, 4, 1, 5, 5, 2, 3, 7, 5, 6, 6, 8,\n",
      "        7, 7, 2, 8, 6, 0, 8, 3, 8, 5, 4, 2, 8, 5, 1, 2, 0, 4, 6, 1, 1, 0, 0, 0,\n",
      "        1, 5, 0, 2, 6, 2, 6, 1])\n",
      "torch.Size([128, 3, 32, 32])\n"
     ]
    },
    {
     "ename": "RuntimeError",
     "evalue": "mat1 and mat2 shapes cannot be multiplied (12288x32 and 3072x10)",
     "output_type": "error",
     "traceback": [
      "\u001b[0;31m---------------------------------------------------------------------------\u001b[0m",
      "\u001b[0;31mRuntimeError\u001b[0m                              Traceback (most recent call last)",
      "\u001b[0;32m/var/folders/72/mnwjrjgs4nbfhnk9bhq72mjm0000gn/T/ipykernel_879/1198024160.py\u001b[0m in \u001b[0;36m<module>\u001b[0;34m\u001b[0m\n\u001b[1;32m      3\u001b[0m     \u001b[0mprint\u001b[0m\u001b[0;34m(\u001b[0m\u001b[0mlabels\u001b[0m\u001b[0;34m)\u001b[0m\u001b[0;34m\u001b[0m\u001b[0;34m\u001b[0m\u001b[0m\n\u001b[1;32m      4\u001b[0m     \u001b[0mprint\u001b[0m\u001b[0;34m(\u001b[0m\u001b[0mimages\u001b[0m\u001b[0;34m.\u001b[0m\u001b[0mshape\u001b[0m\u001b[0;34m)\u001b[0m\u001b[0;34m\u001b[0m\u001b[0;34m\u001b[0m\u001b[0m\n\u001b[0;32m----> 5\u001b[0;31m     \u001b[0moutputs\u001b[0m \u001b[0;34m=\u001b[0m \u001b[0mmodel\u001b[0m\u001b[0;34m(\u001b[0m\u001b[0mimages\u001b[0m\u001b[0;34m)\u001b[0m\u001b[0;31m#here it throws an error because the shape of the image does not match that of the\u001b[0m\u001b[0;34m\u001b[0m\u001b[0;34m\u001b[0m\u001b[0m\n\u001b[0m\u001b[1;32m      6\u001b[0m     \u001b[0;31m#input of the model\u001b[0m\u001b[0;34m\u001b[0m\u001b[0;34m\u001b[0m\u001b[0m\n\u001b[1;32m      7\u001b[0m     \u001b[0mprint\u001b[0m\u001b[0;34m(\u001b[0m\u001b[0moutputs\u001b[0m\u001b[0;34m)\u001b[0m\u001b[0;34m\u001b[0m\u001b[0;34m\u001b[0m\u001b[0m\n",
      "\u001b[0;32m~/opt/anaconda3/lib/python3.9/site-packages/torch/nn/modules/module.py\u001b[0m in \u001b[0;36m_call_impl\u001b[0;34m(self, *input, **kwargs)\u001b[0m\n\u001b[1;32m   1128\u001b[0m         if not (self._backward_hooks or self._forward_hooks or self._forward_pre_hooks or _global_backward_hooks\n\u001b[1;32m   1129\u001b[0m                 or _global_forward_hooks or _global_forward_pre_hooks):\n\u001b[0;32m-> 1130\u001b[0;31m             \u001b[0;32mreturn\u001b[0m \u001b[0mforward_call\u001b[0m\u001b[0;34m(\u001b[0m\u001b[0;34m*\u001b[0m\u001b[0minput\u001b[0m\u001b[0;34m,\u001b[0m \u001b[0;34m**\u001b[0m\u001b[0mkwargs\u001b[0m\u001b[0;34m)\u001b[0m\u001b[0;34m\u001b[0m\u001b[0;34m\u001b[0m\u001b[0m\n\u001b[0m\u001b[1;32m   1131\u001b[0m         \u001b[0;31m# Do not call functions when jit is used\u001b[0m\u001b[0;34m\u001b[0m\u001b[0;34m\u001b[0m\u001b[0m\n\u001b[1;32m   1132\u001b[0m         \u001b[0mfull_backward_hooks\u001b[0m\u001b[0;34m,\u001b[0m \u001b[0mnon_full_backward_hooks\u001b[0m \u001b[0;34m=\u001b[0m \u001b[0;34m[\u001b[0m\u001b[0;34m]\u001b[0m\u001b[0;34m,\u001b[0m \u001b[0;34m[\u001b[0m\u001b[0;34m]\u001b[0m\u001b[0;34m\u001b[0m\u001b[0;34m\u001b[0m\u001b[0m\n",
      "\u001b[0;32m~/opt/anaconda3/lib/python3.9/site-packages/torch/nn/modules/linear.py\u001b[0m in \u001b[0;36mforward\u001b[0;34m(self, input)\u001b[0m\n\u001b[1;32m    112\u001b[0m \u001b[0;34m\u001b[0m\u001b[0m\n\u001b[1;32m    113\u001b[0m     \u001b[0;32mdef\u001b[0m \u001b[0mforward\u001b[0m\u001b[0;34m(\u001b[0m\u001b[0mself\u001b[0m\u001b[0;34m,\u001b[0m \u001b[0minput\u001b[0m\u001b[0;34m:\u001b[0m \u001b[0mTensor\u001b[0m\u001b[0;34m)\u001b[0m \u001b[0;34m->\u001b[0m \u001b[0mTensor\u001b[0m\u001b[0;34m:\u001b[0m\u001b[0;34m\u001b[0m\u001b[0;34m\u001b[0m\u001b[0m\n\u001b[0;32m--> 114\u001b[0;31m         \u001b[0;32mreturn\u001b[0m \u001b[0mF\u001b[0m\u001b[0;34m.\u001b[0m\u001b[0mlinear\u001b[0m\u001b[0;34m(\u001b[0m\u001b[0minput\u001b[0m\u001b[0;34m,\u001b[0m \u001b[0mself\u001b[0m\u001b[0;34m.\u001b[0m\u001b[0mweight\u001b[0m\u001b[0;34m,\u001b[0m \u001b[0mself\u001b[0m\u001b[0;34m.\u001b[0m\u001b[0mbias\u001b[0m\u001b[0;34m)\u001b[0m\u001b[0;34m\u001b[0m\u001b[0;34m\u001b[0m\u001b[0m\n\u001b[0m\u001b[1;32m    115\u001b[0m \u001b[0;34m\u001b[0m\u001b[0m\n\u001b[1;32m    116\u001b[0m     \u001b[0;32mdef\u001b[0m \u001b[0mextra_repr\u001b[0m\u001b[0;34m(\u001b[0m\u001b[0mself\u001b[0m\u001b[0;34m)\u001b[0m \u001b[0;34m->\u001b[0m \u001b[0mstr\u001b[0m\u001b[0;34m:\u001b[0m\u001b[0;34m\u001b[0m\u001b[0;34m\u001b[0m\u001b[0m\n",
      "\u001b[0;31mRuntimeError\u001b[0m: mat1 and mat2 shapes cannot be multiplied (12288x32 and 3072x10)"
     ]
    }
   ],
   "source": [
    "for images, labels in train_loader:# train loader here is the training dataset divided into random nos \n",
    "    #and batches of 128\n",
    "    print(labels)\n",
    "    print(images.shape)\n",
    "    outputs = model(images)#here it throws an error because the shape of the image does not match that of the\n",
    "    #input of the model\n",
    "    print(outputs)\n",
    "    break"
   ]
  },
  {
   "cell_type": "code",
   "execution_count": 89,
   "id": "5a3d2469",
   "metadata": {},
   "outputs": [
    {
     "name": "stdout",
     "output_type": "stream",
     "text": [
      "tensor([4, 3, 7, 9, 7, 6, 0, 7, 3, 5, 3, 8, 7, 4, 1, 6, 5, 8, 7, 6, 6, 8, 5, 4,\n",
      "        6, 6, 0, 5, 4, 3, 5, 8, 1, 4, 5, 9, 6, 3, 7, 8, 4, 9, 1, 9, 1, 2, 1, 8,\n",
      "        9, 1, 5, 0, 0, 7, 5, 8, 5, 6, 5, 4, 4, 9, 7, 8, 4, 7, 1, 3, 6, 1, 0, 5,\n",
      "        1, 6, 0, 3, 1, 3, 3, 3, 4, 0, 6, 7, 4, 9, 2, 9, 2, 3, 0, 6, 1, 1, 4, 9,\n",
      "        8, 7, 6, 3, 4, 3, 3, 8, 1, 3, 5, 3, 8, 9, 9, 4, 8, 3, 6, 1, 1, 7, 7, 9,\n",
      "        5, 4, 6, 4, 2, 3, 2, 4])\n",
      "torch.Size([128, 3, 32, 32])\n",
      "tensor([[-0.0094,  0.1675, -0.1656,  ..., -0.1466, -0.2476, -0.1145],\n",
      "        [-0.1197,  0.3122, -0.7159,  ..., -0.1928, -0.4667, -0.1926],\n",
      "        [ 0.0686,  0.2556, -0.5027,  ..., -0.2279, -0.4349, -0.3454],\n",
      "        ...,\n",
      "        [-0.1069,  0.2136, -0.6712,  ..., -0.2316, -0.2004, -0.1296],\n",
      "        [-0.0859,  0.2627, -0.4854,  ..., -0.0450, -0.3756, -0.1001],\n",
      "        [-0.0335,  0.2882, -0.4228,  ..., -0.1645, -0.3970, -0.0851]],\n",
      "       grad_fn=<AddmmBackward0>)\n"
     ]
    }
   ],
   "source": [
    "#one of the method to solve the problem is to reshape each batch inside the lopp itself\n",
    "#but the other is more prefered as it reshapes the image in the class itself\n",
    "for images, labels in train_loader:\n",
    "    print(labels)\n",
    "    print(images.shape)\n",
    "    outputs = model(images.reshape(128,3072))\n",
    "    print(outputs)\n",
    "    break"
   ]
  },
  {
   "cell_type": "code",
   "execution_count": 120,
   "id": "ae772f3d",
   "metadata": {},
   "outputs": [],
   "source": [
    "class Cifar10Model(nn.Module):\n",
    "    def __init__(self):\n",
    "        super().__init__()\n",
    "        self.linear = nn.Linear(input_size, num_classes)\n",
    "        \n",
    "    def forward(self, xb): #NOTE: here the forward method is called automatically by default like a constructor\n",
    "        xb = xb.reshape(-1,3072)\n",
    "        out = self.linear(xb)\n",
    "        return out\n",
    "    \n",
    "model = Cifar10Model()"
   ]
  },
  {
   "cell_type": "code",
   "execution_count": 94,
   "id": "2042adc3",
   "metadata": {},
   "outputs": [
    {
     "name": "stdout",
     "output_type": "stream",
     "text": [
      "tensor([3, 7, 5, 7, 3, 8, 9, 7, 3, 8, 3, 1, 2, 3, 1, 6, 7, 0, 4, 5, 5, 9, 8, 2,\n",
      "        9, 0, 1, 8, 7, 1, 0, 7, 5, 8, 3, 2, 5, 7, 3, 6, 6, 8, 3, 5, 9, 3, 9, 6,\n",
      "        5, 8, 9, 9, 0, 5, 7, 8, 0, 6, 5, 6, 8, 1, 7, 2, 6, 6, 6, 6, 6, 0, 1, 1,\n",
      "        6, 0, 1, 8, 0, 4, 0, 5, 5, 9, 0, 0, 2, 2, 3, 1, 5, 5, 2, 9, 8, 1, 3, 3,\n",
      "        6, 6, 3, 9, 8, 7, 2, 4, 2, 0, 8, 3, 0, 8, 2, 0, 5, 3, 6, 8, 9, 2, 7, 0,\n",
      "        6, 8, 0, 4, 3, 0, 5, 1])\n",
      "torch.Size([128, 3, 32, 32])\n",
      "tensor([[-4.5739e-01, -1.5331e-01, -1.8149e-01,  ...,  1.6464e-01,\n",
      "          1.4465e-01, -6.0874e-02],\n",
      "        [-4.2762e-01,  3.1698e-01, -2.1721e-01,  ...,  4.4811e-01,\n",
      "          1.9723e-01,  1.8472e-01],\n",
      "        [-5.3979e-01,  2.2902e-01,  4.2502e-02,  ...,  1.8436e-01,\n",
      "          2.0535e-01,  1.7123e-01],\n",
      "        ...,\n",
      "        [-3.1099e-01, -9.6026e-02, -1.4171e-04,  ..., -2.9136e-01,\n",
      "          8.5051e-02, -1.2916e-02],\n",
      "        [-3.7944e-01,  5.7286e-02, -5.8409e-02,  ...,  1.6752e-01,\n",
      "          1.2863e-01, -4.0113e-02],\n",
      "        [-4.5718e-01, -7.4036e-02,  2.5858e-02,  ...,  3.1002e-01,\n",
      "          4.0840e-02,  2.0245e-01]], grad_fn=<AddmmBackward0>)\n"
     ]
    }
   ],
   "source": [
    "for images, labels in train_loader:# train loader here is the training dataset divided into random nos \n",
    "    #and batches of 128\n",
    "    print(labels)\n",
    "    print(images.shape)\n",
    "    outputs = model(images)#here it throws an error because the shape of the image does not match that of the\n",
    "    #input of the model\n",
    "    print(outputs)\n",
    "    break#breaks after loading just 1 batch"
   ]
  },
  {
   "cell_type": "code",
   "execution_count": 108,
   "id": "226bc1e0",
   "metadata": {},
   "outputs": [
    {
     "name": "stdout",
     "output_type": "stream",
     "text": [
      "tensor([[-4.5739e-01, -1.5331e-01, -1.8149e-01,  ...,  1.6464e-01,\n",
      "          1.4465e-01, -6.0874e-02],\n",
      "        [-4.2762e-01,  3.1698e-01, -2.1721e-01,  ...,  4.4811e-01,\n",
      "          1.9723e-01,  1.8472e-01],\n",
      "        [-5.3979e-01,  2.2902e-01,  4.2502e-02,  ...,  1.8436e-01,\n",
      "          2.0535e-01,  1.7123e-01],\n",
      "        ...,\n",
      "        [-3.1099e-01, -9.6026e-02, -1.4171e-04,  ..., -2.9136e-01,\n",
      "          8.5051e-02, -1.2916e-02],\n",
      "        [-3.7944e-01,  5.7286e-02, -5.8409e-02,  ...,  1.6752e-01,\n",
      "          1.2863e-01, -4.0113e-02],\n",
      "        [-4.5718e-01, -7.4036e-02,  2.5858e-02,  ...,  3.1002e-01,\n",
      "          4.0840e-02,  2.0245e-01]], grad_fn=<AddmmBackward0>)\n"
     ]
    }
   ],
   "source": [
    "import torch.nn.functional as F\n",
    "print(outputs)"
   ]
  },
  {
   "cell_type": "code",
   "execution_count": 106,
   "id": "050e6171",
   "metadata": {},
   "outputs": [],
   "source": [
    "probs = F.softmax(outputs, dim=1)"
   ]
  },
  {
   "cell_type": "code",
   "execution_count": 112,
   "id": "8d83331e",
   "metadata": {},
   "outputs": [
    {
     "name": "stdout",
     "output_type": "stream",
     "text": [
      "tensor([[0.0604, 0.0819, 0.0796,  ..., 0.1125, 0.1103, 0.0898],\n",
      "        [0.0518, 0.1090, 0.0639,  ..., 0.1243, 0.0967, 0.0955],\n",
      "        [0.0440, 0.0950, 0.0788,  ..., 0.0909, 0.0928, 0.0897],\n",
      "        ...,\n",
      "        [0.0632, 0.0784, 0.0863,  ..., 0.0645, 0.0940, 0.0852],\n",
      "        [0.0589, 0.0912, 0.0813,  ..., 0.1019, 0.0980, 0.0828],\n",
      "        [0.0541, 0.0793, 0.0877,  ..., 0.1165, 0.0890, 0.1046]],\n",
      "       grad_fn=<SoftmaxBackward0>)\n",
      "Sample probabilities:\n",
      " tensor([[0.0604, 0.0819, 0.0796, 0.1300, 0.1077, 0.0914, 0.1365, 0.1125, 0.1103,\n",
      "         0.0898],\n",
      "        [0.0518, 0.1090, 0.0639, 0.1236, 0.1361, 0.0716, 0.1275, 0.1243, 0.0967,\n",
      "         0.0955]])\n",
      "Sum:  1.0000001192092896\n"
     ]
    }
   ],
   "source": [
    "print(probs)\n",
    "print(\"Sample probabilities:\\n\", probs[:2].data)\n",
    "\n",
    "# Add up the probabilities of an output row\n",
    "print(\"Sum: \", torch.sum(probs[0]).item())"
   ]
  },
  {
   "cell_type": "code",
   "execution_count": 115,
   "id": "7b2e5051",
   "metadata": {},
   "outputs": [
    {
     "name": "stdout",
     "output_type": "stream",
     "text": [
      "tensor([0.1365, 0.1361, 0.1535, 0.1457, 0.1496, 0.1461, 0.1393, 0.1404, 0.1311,\n",
      "        0.1412, 0.1455, 0.1451, 0.1523, 0.1542, 0.1350, 0.1209, 0.1315, 0.1480,\n",
      "        0.1407, 0.1409, 0.1595, 0.1455, 0.1425, 0.1426, 0.1305, 0.1694, 0.1384,\n",
      "        0.1533, 0.1489, 0.1658, 0.1710, 0.1405, 0.1452, 0.1385, 0.1655, 0.1511,\n",
      "        0.1265, 0.1559, 0.1390, 0.1431, 0.1354, 0.1473, 0.1342, 0.1407, 0.1708,\n",
      "        0.1366, 0.1377, 0.1466, 0.1780, 0.1633, 0.1577, 0.1413, 0.1410, 0.1537,\n",
      "        0.1427, 0.1577, 0.1296, 0.1310, 0.1536, 0.1443, 0.1422, 0.1522, 0.1435,\n",
      "        0.1437, 0.1515, 0.1458, 0.1612, 0.1438, 0.1480, 0.1541, 0.1388, 0.1429,\n",
      "        0.1284, 0.1574, 0.1548, 0.1460, 0.1614, 0.1455, 0.1588, 0.1463, 0.1427,\n",
      "        0.1344, 0.1793, 0.1952, 0.1449, 0.1508, 0.1319, 0.1521, 0.1644, 0.1298,\n",
      "        0.1633, 0.1368, 0.1323, 0.1375, 0.1445, 0.1704, 0.1677, 0.1422, 0.1515,\n",
      "        0.1658, 0.1492, 0.1418, 0.1384, 0.1581, 0.1338, 0.1313, 0.1543, 0.1503,\n",
      "        0.1599, 0.1252, 0.1446, 0.1525, 0.1547, 0.1384, 0.1485, 0.1363, 0.1377,\n",
      "        0.1370, 0.1507, 0.1684, 0.1547, 0.1439, 0.1647, 0.1222, 0.1369, 0.1467,\n",
      "        0.1604, 0.1531], grad_fn=<MaxBackward0>)\n",
      "tensor([6, 4, 6, 6, 7, 3, 6, 3, 6, 6, 4, 3, 4, 4, 6, 4, 6, 3, 3, 3, 3, 6, 7, 7,\n",
      "        7, 4, 3, 3, 6, 6, 3, 6, 6, 7, 6, 3, 3, 3, 3, 4, 3, 3, 3, 3, 7, 4, 6, 6,\n",
      "        6, 3, 6, 3, 7, 3, 6, 6, 4, 4, 3, 6, 3, 6, 4, 6, 4, 6, 3, 6, 6, 3, 6, 3,\n",
      "        3, 3, 6, 7, 7, 6, 3, 3, 3, 4, 3, 3, 6, 6, 6, 7, 3, 4, 6, 3, 3, 6, 6, 4,\n",
      "        6, 6, 3, 4, 7, 6, 6, 6, 4, 6, 7, 7, 6, 3, 3, 3, 3, 6, 6, 7, 4, 3, 4, 3,\n",
      "        4, 3, 3, 6, 6, 3, 3, 4])\n"
     ]
    }
   ],
   "source": [
    "max_probs,preds = torch.max(probs, dim=1)\n",
    "print(max_probs)\n",
    "print(preds)"
   ]
  },
  {
   "cell_type": "code",
   "execution_count": 116,
   "id": "81d73325",
   "metadata": {},
   "outputs": [],
   "source": [
    "def accuracy(outputs, labels):\n",
    "    _, preds = torch.max(outputs, dim=1)\n",
    "    return torch.tensor(torch.sum(preds == labels).item() / len(preds))"
   ]
  },
  {
   "cell_type": "code",
   "execution_count": 117,
   "id": "5d09dfeb",
   "metadata": {},
   "outputs": [
    {
     "name": "stdout",
     "output_type": "stream",
     "text": [
      "tensor(0.0859)\n"
     ]
    }
   ],
   "source": [
    "print(accuracy(outputs,labels))#as you can see the accuracy for the untrained model is very low"
   ]
  },
  {
   "cell_type": "code",
   "execution_count": 119,
   "id": "e2b11796",
   "metadata": {},
   "outputs": [
    {
     "name": "stdout",
     "output_type": "stream",
     "text": [
      "tensor(2.3844, grad_fn=<NllLossBackward0>)\n"
     ]
    }
   ],
   "source": [
    "loss_fn = F.cross_entropy \n",
    "loss = loss_fn(outputs, labels)\n",
    "print(loss)"
   ]
  },
  {
   "cell_type": "code",
   "execution_count": 124,
   "id": "188e0aa2",
   "metadata": {},
   "outputs": [],
   "source": [
    "def evaluate(model, val_loader):\n",
    "    outputs = [model.validation_step(batch) for batch in val_loader]\n",
    "    return model.validation_epoch_end(outputs)\n",
    "class Cifar10Model(nn.Module):\n",
    "    def __init__(self):\n",
    "        super().__init__()\n",
    "        self.linear = nn.Linear(input_size, num_classes)\n",
    "        \n",
    "    def forward(self, xb):\n",
    "        xb = xb.reshape(-1,3072)\n",
    "        out = self.linear(xb)\n",
    "        return out\n",
    "    \n",
    "    def training_step(self, batch):\n",
    "        images, labels = batch \n",
    "        out = self(images)                  # Generate predictions\n",
    "        loss = F.cross_entropy(out, labels) # Calculate loss\n",
    "        return loss\n",
    "    \n",
    "    def validation_step(self, batch):\n",
    "        images, labels = batch \n",
    "        out = self(images)                    # Generate predictions\n",
    "        loss = F.cross_entropy(out, labels)   # Calculate loss\n",
    "        acc = accuracy(out, labels)           # Calculate accuracy\n",
    "        return {'val_loss': loss, 'val_acc': acc}\n",
    "        \n",
    "    def validation_epoch_end(self, outputs):\n",
    "        batch_losses = [x['val_loss'] for x in outputs]\n",
    "        epoch_loss = torch.stack(batch_losses).mean()   # Combine losses\n",
    "        batch_accs = [x['val_acc'] for x in outputs]\n",
    "        epoch_acc = torch.stack(batch_accs).mean()      # Combine accuracies\n",
    "        return {'val_loss': epoch_loss.item(), 'val_acc': epoch_acc.item()}\n",
    "    \n",
    "    def epoch_end(self, epoch, result):\n",
    "        print(\"Epoch [{}], val_loss: {:.4f}, val_acc: {:.4f}\".format(epoch, result['val_loss'], result['val_acc']))\n",
    "    \n",
    "model = Cifar10Model()"
   ]
  },
  {
   "cell_type": "code",
   "execution_count": 125,
   "id": "cddf3fde",
   "metadata": {},
   "outputs": [
    {
     "name": "stdout",
     "output_type": "stream",
     "text": [
      "{'val_loss': 2.362344264984131, 'val_acc': 0.0986328125}\n",
      "{'val_loss': 2.3610758781433105, 'val_acc': 0.09610262513160706}\n"
     ]
    }
   ],
   "source": [
    "result0 = evaluate(model, val_loader)#if the acc and loss is not the same for the training and validation set\n",
    "#then there is something wrong \n",
    "print(result0)\n",
    "result1 = evaluate(model, train_loader)\n",
    "print(result1)"
   ]
  },
  {
   "cell_type": "code",
   "execution_count": 126,
   "id": "bfe9eff8",
   "metadata": {},
   "outputs": [],
   "source": [
    "def fit(epochs, lr, model, train_loader, val_loader, opt_func=torch.optim.SGD):\n",
    "    optimizer = opt_func(model.parameters(), lr)\n",
    "    history = [] # for recording epoch-wise results\n",
    "    \n",
    "    for epoch in range(epochs):\n",
    "        \n",
    "        # Training Phase \n",
    "        for batch in train_loader:\n",
    "            loss = model.training_step(batch)\n",
    "            loss.backward()\n",
    "            optimizer.step()\n",
    "            optimizer.zero_grad()\n",
    "        \n",
    "        # Validation phase\n",
    "        result = evaluate(model, val_loader)\n",
    "        model.epoch_end(epoch, result)\n",
    "        history.append(result)\n",
    "\n",
    "    return history"
   ]
  },
  {
   "cell_type": "code",
   "execution_count": 127,
   "id": "ec0a98fd",
   "metadata": {},
   "outputs": [
    {
     "name": "stdout",
     "output_type": "stream",
     "text": [
      "Epoch [0], val_loss: 2.1404, val_acc: 0.2559\n",
      "Epoch [1], val_loss: 2.0617, val_acc: 0.2803\n",
      "Epoch [2], val_loss: 2.0161, val_acc: 0.2969\n",
      "Epoch [3], val_loss: 1.9844, val_acc: 0.3158\n",
      "Epoch [4], val_loss: 1.9605, val_acc: 0.3180\n",
      "Epoch [0], val_loss: 1.9416, val_acc: 0.3316\n",
      "Epoch [1], val_loss: 1.9268, val_acc: 0.3307\n",
      "Epoch [2], val_loss: 1.9148, val_acc: 0.3408\n",
      "Epoch [3], val_loss: 1.9032, val_acc: 0.3379\n",
      "Epoch [4], val_loss: 1.8965, val_acc: 0.3320\n",
      "Epoch [0], val_loss: 1.8864, val_acc: 0.3391\n",
      "Epoch [1], val_loss: 1.8795, val_acc: 0.3381\n",
      "Epoch [2], val_loss: 1.8747, val_acc: 0.3406\n",
      "Epoch [3], val_loss: 1.8676, val_acc: 0.3459\n",
      "Epoch [4], val_loss: 1.8631, val_acc: 0.3484\n",
      "Epoch [0], val_loss: 1.8587, val_acc: 0.3467\n",
      "Epoch [1], val_loss: 1.8541, val_acc: 0.3486\n",
      "Epoch [2], val_loss: 1.8499, val_acc: 0.3496\n",
      "Epoch [3], val_loss: 1.8469, val_acc: 0.3508\n",
      "Epoch [4], val_loss: 1.8437, val_acc: 0.3520\n",
      "Epoch [0], val_loss: 1.8402, val_acc: 0.3523\n",
      "Epoch [1], val_loss: 1.8377, val_acc: 0.3584\n",
      "Epoch [2], val_loss: 1.8340, val_acc: 0.3594\n",
      "Epoch [3], val_loss: 1.8313, val_acc: 0.3613\n",
      "Epoch [4], val_loss: 1.8298, val_acc: 0.3627\n"
     ]
    }
   ],
   "source": [
    "history1 = fit(5, 0.001, model, train_loader, val_loader)\n",
    "history2 = fit(5, 0.001, model, train_loader, val_loader)\n",
    "history3 = fit(5, 0.001, model, train_loader, val_loader)\n",
    "history4 = fit(5, 0.001, model, train_loader, val_loader)\n",
    "history5 = fit(5, 0.001, model, train_loader, val_loader)\n",
    "#here it is great the loss is decreasing and the accuracy is increasing"
   ]
  },
  {
   "cell_type": "code",
   "execution_count": 128,
   "id": "5aa7ead2",
   "metadata": {},
   "outputs": [
    {
     "data": {
      "image/png": "[encoded data removed]",
      "text/plain": [
       "<Figure size 432x288 with 1 Axes>"
      ]
     },
     "metadata": {
      "needs_background": "light"
     },
     "output_type": "display_data"
    }
   ],
   "source": [
    "history = [result0] + history1 + history2 + history3 + history4\n",
    "accuracies = [result['val_acc'] for result in history]\n",
    "plt.plot(accuracies, '-x')\n",
    "plt.xlabel('epoch')\n",
    "plt.ylabel('accuracy')\n",
    "plt.title('Accuracy vs. No. of epochs');"
   ]
  },
  {
   "cell_type": "code",
   "execution_count": null,
   "id": "80950f30",
   "metadata": {},
   "outputs": [],
   "source": []
  }
 ],
 "metadata": {
  "kernelspec": {
   "display_name": "Python 3 (ipykernel)",
   "language": "python",
   "name": "python3"
  },
  "language_info": {
   "codemirror_mode": {
    "name": "ipython",
    "version": 3
   },
   "file_extension": ".py",
   "mimetype": "text/x-python",
   "name": "python",
   "nbconvert_exporter": "python",
   "pygments_lexer": "ipython3",
   "version": "3.9.7"
  }
 },
 "nbformat": 4,
 "nbformat_minor": 5
}
